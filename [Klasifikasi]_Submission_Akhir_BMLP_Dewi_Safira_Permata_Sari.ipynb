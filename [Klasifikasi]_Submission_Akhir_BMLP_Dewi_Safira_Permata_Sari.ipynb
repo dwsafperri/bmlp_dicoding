{
  "nbformat": 4,
  "nbformat_minor": 0,
  "metadata": {
    "colab": {
      "provenance": []
    },
    "kernelspec": {
      "name": "python3",
      "display_name": "Python 3"
    },
    "language_info": {
      "name": "python"
    }
  },
  "cells": [
    {
      "cell_type": "markdown",
      "source": [
        "# **1. Import Library**"
      ],
      "metadata": {
        "id": "fKADPWcFKlj3"
      }
    },
    {
      "cell_type": "markdown",
      "source": [
        "Pada tahap ini, Anda perlu mengimpor beberapa pustaka (library) Python yang dibutuhkan untuk analisis data dan pembangunan model machine learning."
      ],
      "metadata": {
        "id": "LgA3ERnVn84N"
      }
    },
    {
      "cell_type": "code",
      "source": [
        "import pandas as pd\n",
        "import matplotlib.pyplot as plt\n",
        "import seaborn as sns\n",
        "import numpy as np\n",
        "\n",
        "from sklearn.model_selection import train_test_split\n",
        "from sklearn.preprocessing import LabelEncoder, StandardScaler, MinMaxScaler, OneHotEncoder\n",
        "from sklearn.linear_model import LogisticRegression\n",
        "from sklearn.model_selection import GridSearchCV\n",
        "from sklearn.tree import DecisionTreeClassifier\n",
        "from sklearn.ensemble import RandomForestClassifier\n",
        "from sklearn.neighbors import KNeighborsClassifier\n",
        "from sklearn.metrics import accuracy_score, f1_score, precision_score, recall_score, confusion_matrix, classification_report"
      ],
      "metadata": {
        "id": "BlmvjLY9M4Yj"
      },
      "execution_count": 1,
      "outputs": []
    },
    {
      "cell_type": "markdown",
      "source": [
        "# **2. Memuat Dataset dari Hasil Clustering**"
      ],
      "metadata": {
        "id": "f3YIEnAFKrKL"
      }
    },
    {
      "cell_type": "markdown",
      "source": [
        "Memuat dataset hasil clustering dari file CSV ke dalam variabel DataFrame."
      ],
      "metadata": {
        "id": "Ey3ItwTen_7E"
      }
    },
    {
      "cell_type": "code",
      "source": [
        "df = pd.read_csv(\"Dataset_clustering.csv\")\n",
        "df.head()"
      ],
      "metadata": {
        "id": "GHCGNTyrM5fS",
        "colab": {
          "base_uri": "https://localhost:8080/",
          "height": 206
        },
        "outputId": "78042075-24b2-45d1-ca67-5f1fa15de4c7"
      },
      "execution_count": 2,
      "outputs": [
        {
          "output_type": "execute_result",
          "data": {
            "text/plain": [
              "     Country  Year        Food Category  Total Waste (Tons)  \\\n",
              "0  Australia  2019  Fruits & Vegetables            19268.63   \n",
              "1  Indonesia  2019        Prepared Food             3916.97   \n",
              "2    Germany  2022       Dairy Products             9700.16   \n",
              "3     France  2023  Fruits & Vegetables            46299.69   \n",
              "4     France  2023            Beverages            33096.57   \n",
              "\n",
              "   Economic Loss (Million $)  Avg Waste per Capita (Kg)  Population (Million)  \\\n",
              "0                   18686.68                      72.69                 87.59   \n",
              "1                    4394.48                     192.52               1153.99   \n",
              "2                    8909.16                     166.94               1006.11   \n",
              "3                   40551.22                     120.19                953.05   \n",
              "4                   36980.82                     104.74               1105.47   \n",
              "\n",
              "   Household Waste (%)  Cluster  \n",
              "0                53.64        0  \n",
              "1                30.61        0  \n",
              "2                48.08        0  \n",
              "3                31.91        1  \n",
              "4                36.06        1  "
            ],
            "text/html": [
              "\n",
              "  <div id=\"df-37445347-a7bc-49ba-8ce4-788d34c8307a\" class=\"colab-df-container\">\n",
              "    <div>\n",
              "<style scoped>\n",
              "    .dataframe tbody tr th:only-of-type {\n",
              "        vertical-align: middle;\n",
              "    }\n",
              "\n",
              "    .dataframe tbody tr th {\n",
              "        vertical-align: top;\n",
              "    }\n",
              "\n",
              "    .dataframe thead th {\n",
              "        text-align: right;\n",
              "    }\n",
              "</style>\n",
              "<table border=\"1\" class=\"dataframe\">\n",
              "  <thead>\n",
              "    <tr style=\"text-align: right;\">\n",
              "      <th></th>\n",
              "      <th>Country</th>\n",
              "      <th>Year</th>\n",
              "      <th>Food Category</th>\n",
              "      <th>Total Waste (Tons)</th>\n",
              "      <th>Economic Loss (Million $)</th>\n",
              "      <th>Avg Waste per Capita (Kg)</th>\n",
              "      <th>Population (Million)</th>\n",
              "      <th>Household Waste (%)</th>\n",
              "      <th>Cluster</th>\n",
              "    </tr>\n",
              "  </thead>\n",
              "  <tbody>\n",
              "    <tr>\n",
              "      <th>0</th>\n",
              "      <td>Australia</td>\n",
              "      <td>2019</td>\n",
              "      <td>Fruits &amp; Vegetables</td>\n",
              "      <td>19268.63</td>\n",
              "      <td>18686.68</td>\n",
              "      <td>72.69</td>\n",
              "      <td>87.59</td>\n",
              "      <td>53.64</td>\n",
              "      <td>0</td>\n",
              "    </tr>\n",
              "    <tr>\n",
              "      <th>1</th>\n",
              "      <td>Indonesia</td>\n",
              "      <td>2019</td>\n",
              "      <td>Prepared Food</td>\n",
              "      <td>3916.97</td>\n",
              "      <td>4394.48</td>\n",
              "      <td>192.52</td>\n",
              "      <td>1153.99</td>\n",
              "      <td>30.61</td>\n",
              "      <td>0</td>\n",
              "    </tr>\n",
              "    <tr>\n",
              "      <th>2</th>\n",
              "      <td>Germany</td>\n",
              "      <td>2022</td>\n",
              "      <td>Dairy Products</td>\n",
              "      <td>9700.16</td>\n",
              "      <td>8909.16</td>\n",
              "      <td>166.94</td>\n",
              "      <td>1006.11</td>\n",
              "      <td>48.08</td>\n",
              "      <td>0</td>\n",
              "    </tr>\n",
              "    <tr>\n",
              "      <th>3</th>\n",
              "      <td>France</td>\n",
              "      <td>2023</td>\n",
              "      <td>Fruits &amp; Vegetables</td>\n",
              "      <td>46299.69</td>\n",
              "      <td>40551.22</td>\n",
              "      <td>120.19</td>\n",
              "      <td>953.05</td>\n",
              "      <td>31.91</td>\n",
              "      <td>1</td>\n",
              "    </tr>\n",
              "    <tr>\n",
              "      <th>4</th>\n",
              "      <td>France</td>\n",
              "      <td>2023</td>\n",
              "      <td>Beverages</td>\n",
              "      <td>33096.57</td>\n",
              "      <td>36980.82</td>\n",
              "      <td>104.74</td>\n",
              "      <td>1105.47</td>\n",
              "      <td>36.06</td>\n",
              "      <td>1</td>\n",
              "    </tr>\n",
              "  </tbody>\n",
              "</table>\n",
              "</div>\n",
              "    <div class=\"colab-df-buttons\">\n",
              "\n",
              "  <div class=\"colab-df-container\">\n",
              "    <button class=\"colab-df-convert\" onclick=\"convertToInteractive('df-37445347-a7bc-49ba-8ce4-788d34c8307a')\"\n",
              "            title=\"Convert this dataframe to an interactive table.\"\n",
              "            style=\"display:none;\">\n",
              "\n",
              "  <svg xmlns=\"http://www.w3.org/2000/svg\" height=\"24px\" viewBox=\"0 -960 960 960\">\n",
              "    <path d=\"M120-120v-720h720v720H120Zm60-500h600v-160H180v160Zm220 220h160v-160H400v160Zm0 220h160v-160H400v160ZM180-400h160v-160H180v160Zm440 0h160v-160H620v160ZM180-180h160v-160H180v160Zm440 0h160v-160H620v160Z\"/>\n",
              "  </svg>\n",
              "    </button>\n",
              "\n",
              "  <style>\n",
              "    .colab-df-container {\n",
              "      display:flex;\n",
              "      gap: 12px;\n",
              "    }\n",
              "\n",
              "    .colab-df-convert {\n",
              "      background-color: #E8F0FE;\n",
              "      border: none;\n",
              "      border-radius: 50%;\n",
              "      cursor: pointer;\n",
              "      display: none;\n",
              "      fill: #1967D2;\n",
              "      height: 32px;\n",
              "      padding: 0 0 0 0;\n",
              "      width: 32px;\n",
              "    }\n",
              "\n",
              "    .colab-df-convert:hover {\n",
              "      background-color: #E2EBFA;\n",
              "      box-shadow: 0px 1px 2px rgba(60, 64, 67, 0.3), 0px 1px 3px 1px rgba(60, 64, 67, 0.15);\n",
              "      fill: #174EA6;\n",
              "    }\n",
              "\n",
              "    .colab-df-buttons div {\n",
              "      margin-bottom: 4px;\n",
              "    }\n",
              "\n",
              "    [theme=dark] .colab-df-convert {\n",
              "      background-color: #3B4455;\n",
              "      fill: #D2E3FC;\n",
              "    }\n",
              "\n",
              "    [theme=dark] .colab-df-convert:hover {\n",
              "      background-color: #434B5C;\n",
              "      box-shadow: 0px 1px 3px 1px rgba(0, 0, 0, 0.15);\n",
              "      filter: drop-shadow(0px 1px 2px rgba(0, 0, 0, 0.3));\n",
              "      fill: #FFFFFF;\n",
              "    }\n",
              "  </style>\n",
              "\n",
              "    <script>\n",
              "      const buttonEl =\n",
              "        document.querySelector('#df-37445347-a7bc-49ba-8ce4-788d34c8307a button.colab-df-convert');\n",
              "      buttonEl.style.display =\n",
              "        google.colab.kernel.accessAllowed ? 'block' : 'none';\n",
              "\n",
              "      async function convertToInteractive(key) {\n",
              "        const element = document.querySelector('#df-37445347-a7bc-49ba-8ce4-788d34c8307a');\n",
              "        const dataTable =\n",
              "          await google.colab.kernel.invokeFunction('convertToInteractive',\n",
              "                                                    [key], {});\n",
              "        if (!dataTable) return;\n",
              "\n",
              "        const docLinkHtml = 'Like what you see? Visit the ' +\n",
              "          '<a target=\"_blank\" href=https://colab.research.google.com/notebooks/data_table.ipynb>data table notebook</a>'\n",
              "          + ' to learn more about interactive tables.';\n",
              "        element.innerHTML = '';\n",
              "        dataTable['output_type'] = 'display_data';\n",
              "        await google.colab.output.renderOutput(dataTable, element);\n",
              "        const docLink = document.createElement('div');\n",
              "        docLink.innerHTML = docLinkHtml;\n",
              "        element.appendChild(docLink);\n",
              "      }\n",
              "    </script>\n",
              "  </div>\n",
              "\n",
              "\n",
              "<div id=\"df-32417a62-d6e0-4988-bc1b-39be0443f732\">\n",
              "  <button class=\"colab-df-quickchart\" onclick=\"quickchart('df-32417a62-d6e0-4988-bc1b-39be0443f732')\"\n",
              "            title=\"Suggest charts\"\n",
              "            style=\"display:none;\">\n",
              "\n",
              "<svg xmlns=\"http://www.w3.org/2000/svg\" height=\"24px\"viewBox=\"0 0 24 24\"\n",
              "     width=\"24px\">\n",
              "    <g>\n",
              "        <path d=\"M19 3H5c-1.1 0-2 .9-2 2v14c0 1.1.9 2 2 2h14c1.1 0 2-.9 2-2V5c0-1.1-.9-2-2-2zM9 17H7v-7h2v7zm4 0h-2V7h2v10zm4 0h-2v-4h2v4z\"/>\n",
              "    </g>\n",
              "</svg>\n",
              "  </button>\n",
              "\n",
              "<style>\n",
              "  .colab-df-quickchart {\n",
              "      --bg-color: #E8F0FE;\n",
              "      --fill-color: #1967D2;\n",
              "      --hover-bg-color: #E2EBFA;\n",
              "      --hover-fill-color: #174EA6;\n",
              "      --disabled-fill-color: #AAA;\n",
              "      --disabled-bg-color: #DDD;\n",
              "  }\n",
              "\n",
              "  [theme=dark] .colab-df-quickchart {\n",
              "      --bg-color: #3B4455;\n",
              "      --fill-color: #D2E3FC;\n",
              "      --hover-bg-color: #434B5C;\n",
              "      --hover-fill-color: #FFFFFF;\n",
              "      --disabled-bg-color: #3B4455;\n",
              "      --disabled-fill-color: #666;\n",
              "  }\n",
              "\n",
              "  .colab-df-quickchart {\n",
              "    background-color: var(--bg-color);\n",
              "    border: none;\n",
              "    border-radius: 50%;\n",
              "    cursor: pointer;\n",
              "    display: none;\n",
              "    fill: var(--fill-color);\n",
              "    height: 32px;\n",
              "    padding: 0;\n",
              "    width: 32px;\n",
              "  }\n",
              "\n",
              "  .colab-df-quickchart:hover {\n",
              "    background-color: var(--hover-bg-color);\n",
              "    box-shadow: 0 1px 2px rgba(60, 64, 67, 0.3), 0 1px 3px 1px rgba(60, 64, 67, 0.15);\n",
              "    fill: var(--button-hover-fill-color);\n",
              "  }\n",
              "\n",
              "  .colab-df-quickchart-complete:disabled,\n",
              "  .colab-df-quickchart-complete:disabled:hover {\n",
              "    background-color: var(--disabled-bg-color);\n",
              "    fill: var(--disabled-fill-color);\n",
              "    box-shadow: none;\n",
              "  }\n",
              "\n",
              "  .colab-df-spinner {\n",
              "    border: 2px solid var(--fill-color);\n",
              "    border-color: transparent;\n",
              "    border-bottom-color: var(--fill-color);\n",
              "    animation:\n",
              "      spin 1s steps(1) infinite;\n",
              "  }\n",
              "\n",
              "  @keyframes spin {\n",
              "    0% {\n",
              "      border-color: transparent;\n",
              "      border-bottom-color: var(--fill-color);\n",
              "      border-left-color: var(--fill-color);\n",
              "    }\n",
              "    20% {\n",
              "      border-color: transparent;\n",
              "      border-left-color: var(--fill-color);\n",
              "      border-top-color: var(--fill-color);\n",
              "    }\n",
              "    30% {\n",
              "      border-color: transparent;\n",
              "      border-left-color: var(--fill-color);\n",
              "      border-top-color: var(--fill-color);\n",
              "      border-right-color: var(--fill-color);\n",
              "    }\n",
              "    40% {\n",
              "      border-color: transparent;\n",
              "      border-right-color: var(--fill-color);\n",
              "      border-top-color: var(--fill-color);\n",
              "    }\n",
              "    60% {\n",
              "      border-color: transparent;\n",
              "      border-right-color: var(--fill-color);\n",
              "    }\n",
              "    80% {\n",
              "      border-color: transparent;\n",
              "      border-right-color: var(--fill-color);\n",
              "      border-bottom-color: var(--fill-color);\n",
              "    }\n",
              "    90% {\n",
              "      border-color: transparent;\n",
              "      border-bottom-color: var(--fill-color);\n",
              "    }\n",
              "  }\n",
              "</style>\n",
              "\n",
              "  <script>\n",
              "    async function quickchart(key) {\n",
              "      const quickchartButtonEl =\n",
              "        document.querySelector('#' + key + ' button');\n",
              "      quickchartButtonEl.disabled = true;  // To prevent multiple clicks.\n",
              "      quickchartButtonEl.classList.add('colab-df-spinner');\n",
              "      try {\n",
              "        const charts = await google.colab.kernel.invokeFunction(\n",
              "            'suggestCharts', [key], {});\n",
              "      } catch (error) {\n",
              "        console.error('Error during call to suggestCharts:', error);\n",
              "      }\n",
              "      quickchartButtonEl.classList.remove('colab-df-spinner');\n",
              "      quickchartButtonEl.classList.add('colab-df-quickchart-complete');\n",
              "    }\n",
              "    (() => {\n",
              "      let quickchartButtonEl =\n",
              "        document.querySelector('#df-32417a62-d6e0-4988-bc1b-39be0443f732 button');\n",
              "      quickchartButtonEl.style.display =\n",
              "        google.colab.kernel.accessAllowed ? 'block' : 'none';\n",
              "    })();\n",
              "  </script>\n",
              "</div>\n",
              "\n",
              "    </div>\n",
              "  </div>\n"
            ],
            "application/vnd.google.colaboratory.intrinsic+json": {
              "type": "dataframe",
              "variable_name": "df",
              "summary": "{\n  \"name\": \"df\",\n  \"rows\": 5000,\n  \"fields\": [\n    {\n      \"column\": \"Country\",\n      \"properties\": {\n        \"dtype\": \"category\",\n        \"num_unique_values\": 20,\n        \"samples\": [\n          \"Australia\",\n          \"South Korea\",\n          \"Argentina\"\n        ],\n        \"semantic_type\": \"\",\n        \"description\": \"\"\n      }\n    },\n    {\n      \"column\": \"Year\",\n      \"properties\": {\n        \"dtype\": \"number\",\n        \"std\": 1,\n        \"min\": 2018,\n        \"max\": 2024,\n        \"num_unique_values\": 7,\n        \"samples\": [\n          2019,\n          2022,\n          2021\n        ],\n        \"semantic_type\": \"\",\n        \"description\": \"\"\n      }\n    },\n    {\n      \"column\": \"Food Category\",\n      \"properties\": {\n        \"dtype\": \"category\",\n        \"num_unique_values\": 8,\n        \"samples\": [\n          \"Prepared Food\",\n          \"Grains & Cereals\",\n          \"Fruits & Vegetables\"\n        ],\n        \"semantic_type\": \"\",\n        \"description\": \"\"\n      }\n    },\n    {\n      \"column\": \"Total Waste (Tons)\",\n      \"properties\": {\n        \"dtype\": \"number\",\n        \"std\": 14245.119587863515,\n        \"min\": 502.6100000000006,\n        \"max\": 49990.76,\n        \"num_unique_values\": 4998,\n        \"samples\": [\n          6000.349999999999,\n          7890.779999999999,\n          49030.39\n        ],\n        \"semantic_type\": \"\",\n        \"description\": \"\"\n      }\n    },\n    {\n      \"column\": \"Economic Loss (Million $)\",\n      \"properties\": {\n        \"dtype\": \"number\",\n        \"std\": 14620.236429040273,\n        \"min\": 406.6899999999987,\n        \"max\": 59228.93,\n        \"num_unique_values\": 4998,\n        \"samples\": [\n          6335.630000000001,\n          9058.16,\n          42225.17\n        ],\n        \"semantic_type\": \"\",\n        \"description\": \"\"\n      }\n    },\n    {\n      \"column\": \"Avg Waste per Capita (Kg)\",\n      \"properties\": {\n        \"dtype\": \"number\",\n        \"std\": 51.93372994923804,\n        \"min\": 20.09,\n        \"max\": 199.97,\n        \"num_unique_values\": 4338,\n        \"samples\": [\n          79.66,\n          128.13,\n          159.11\n        ],\n        \"semantic_type\": \"\",\n        \"description\": \"\"\n      }\n    },\n    {\n      \"column\": \"Population (Million)\",\n      \"properties\": {\n        \"dtype\": \"number\",\n        \"std\": 402.54646368239275,\n        \"min\": 11.29,\n        \"max\": 1399.97,\n        \"num_unique_values\": 4901,\n        \"samples\": [\n          836.11,\n          81.58,\n          581.96\n        ],\n        \"semantic_type\": \"\",\n        \"description\": \"\"\n      }\n    },\n    {\n      \"column\": \"Household Waste (%)\",\n      \"properties\": {\n        \"dtype\": \"number\",\n        \"std\": 11.596203125734164,\n        \"min\": 30.02,\n        \"max\": 70.0,\n        \"num_unique_values\": 2858,\n        \"samples\": [\n          67.98,\n          69.56,\n          58.73\n        ],\n        \"semantic_type\": \"\",\n        \"description\": \"\"\n      }\n    },\n    {\n      \"column\": \"Cluster\",\n      \"properties\": {\n        \"dtype\": \"number\",\n        \"std\": 0,\n        \"min\": 0,\n        \"max\": 1,\n        \"num_unique_values\": 2,\n        \"samples\": [\n          1,\n          0\n        ],\n        \"semantic_type\": \"\",\n        \"description\": \"\"\n      }\n    }\n  ]\n}"
            }
          },
          "metadata": {},
          "execution_count": 2
        }
      ]
    },
    {
      "cell_type": "code",
      "source": [
        "df.info()"
      ],
      "metadata": {
        "id": "UVshuOfDL8BY",
        "colab": {
          "base_uri": "https://localhost:8080/"
        },
        "outputId": "8ae07106-875a-44d3-95a5-d3decb3406f7"
      },
      "execution_count": 3,
      "outputs": [
        {
          "output_type": "stream",
          "name": "stdout",
          "text": [
            "<class 'pandas.core.frame.DataFrame'>\n",
            "RangeIndex: 5000 entries, 0 to 4999\n",
            "Data columns (total 9 columns):\n",
            " #   Column                     Non-Null Count  Dtype  \n",
            "---  ------                     --------------  -----  \n",
            " 0   Country                    5000 non-null   object \n",
            " 1   Year                       5000 non-null   int64  \n",
            " 2   Food Category              5000 non-null   object \n",
            " 3   Total Waste (Tons)         5000 non-null   float64\n",
            " 4   Economic Loss (Million $)  5000 non-null   float64\n",
            " 5   Avg Waste per Capita (Kg)  5000 non-null   float64\n",
            " 6   Population (Million)       5000 non-null   float64\n",
            " 7   Household Waste (%)        5000 non-null   float64\n",
            " 8   Cluster                    5000 non-null   int64  \n",
            "dtypes: float64(5), int64(2), object(2)\n",
            "memory usage: 351.7+ KB\n"
          ]
        }
      ]
    },
    {
      "cell_type": "code",
      "source": [
        "print(\"\\nMissing values per fitur:\")\n",
        "print(df.isnull().sum())"
      ],
      "metadata": {
        "id": "7xhv3YoXMBf_",
        "colab": {
          "base_uri": "https://localhost:8080/"
        },
        "outputId": "1a4473bd-b8ff-4ff2-c9ba-5e92a9b9d72c"
      },
      "execution_count": 4,
      "outputs": [
        {
          "output_type": "stream",
          "name": "stdout",
          "text": [
            "\n",
            "Missing values per fitur:\n",
            "Country                      0\n",
            "Year                         0\n",
            "Food Category                0\n",
            "Total Waste (Tons)           0\n",
            "Economic Loss (Million $)    0\n",
            "Avg Waste per Capita (Kg)    0\n",
            "Population (Million)         0\n",
            "Household Waste (%)          0\n",
            "Cluster                      0\n",
            "dtype: int64\n"
          ]
        }
      ]
    },
    {
      "cell_type": "code",
      "source": [
        "print(df.dtypes)"
      ],
      "metadata": {
        "id": "6pV7nNmuMZ7l",
        "colab": {
          "base_uri": "https://localhost:8080/"
        },
        "outputId": "9048b54c-71a8-49ed-a197-a9857d49c3f5"
      },
      "execution_count": 5,
      "outputs": [
        {
          "output_type": "stream",
          "name": "stdout",
          "text": [
            "Country                       object\n",
            "Year                           int64\n",
            "Food Category                 object\n",
            "Total Waste (Tons)           float64\n",
            "Economic Loss (Million $)    float64\n",
            "Avg Waste per Capita (Kg)    float64\n",
            "Population (Million)         float64\n",
            "Household Waste (%)          float64\n",
            "Cluster                        int64\n",
            "dtype: object\n"
          ]
        }
      ]
    },
    {
      "cell_type": "markdown",
      "source": [
        "Kolom **Year** akan saya ubah juga menjadi variabel kategorikal karena merepresentasikan kategori waktu, bukan nilai numerik yang bisa dihitung perbedaannya secara matematis."
      ],
      "metadata": {
        "id": "lCYWkVk-My9i"
      }
    },
    {
      "cell_type": "code",
      "source": [
        "df[\"Year\"] = df[\"Year\"].astype(\"object\")\n",
        "\n",
        "print(df.dtypes)"
      ],
      "metadata": {
        "id": "sXpFsavEMzvK",
        "colab": {
          "base_uri": "https://localhost:8080/"
        },
        "outputId": "a4bdf3ba-8f02-4ba7-b61e-d68b7bb73da3"
      },
      "execution_count": 6,
      "outputs": [
        {
          "output_type": "stream",
          "name": "stdout",
          "text": [
            "Country                       object\n",
            "Year                          object\n",
            "Food Category                 object\n",
            "Total Waste (Tons)           float64\n",
            "Economic Loss (Million $)    float64\n",
            "Avg Waste per Capita (Kg)    float64\n",
            "Population (Million)         float64\n",
            "Household Waste (%)          float64\n",
            "Cluster                        int64\n",
            "dtype: object\n"
          ]
        }
      ]
    },
    {
      "cell_type": "code",
      "source": [
        "numerical_features = df.select_dtypes(include=['float64', 'int64']).columns.tolist()\n",
        "categorical_features = df.select_dtypes(include=['object']).columns.tolist()\n",
        "\n",
        "print(\"Variabel Numerikal:\", numerical_features)\n",
        "print(\"Variabel Kategorikal:\", categorical_features)"
      ],
      "metadata": {
        "id": "OTQaw8fHOfQb",
        "colab": {
          "base_uri": "https://localhost:8080/"
        },
        "outputId": "852ea0f4-5eb1-4afa-f2af-f248f81f4fd1"
      },
      "execution_count": 7,
      "outputs": [
        {
          "output_type": "stream",
          "name": "stdout",
          "text": [
            "Variabel Numerikal: ['Total Waste (Tons)', 'Economic Loss (Million $)', 'Avg Waste per Capita (Kg)', 'Population (Million)', 'Household Waste (%)', 'Cluster']\n",
            "Variabel Kategorikal: ['Country', 'Year', 'Food Category']\n"
          ]
        }
      ]
    },
    {
      "cell_type": "code",
      "source": [
        "label_encoder = LabelEncoder()\n",
        "\n",
        "# Loop untuk mengubah setiap kolom kategorikal\n",
        "for col in categorical_features:\n",
        "    df[col] = label_encoder.fit_transform(df[col])\n",
        "\n",
        "print(df.head())"
      ],
      "metadata": {
        "id": "Vce5ZqSmNO73",
        "colab": {
          "base_uri": "https://localhost:8080/"
        },
        "outputId": "25988876-0689-424f-e6c4-7fe2fe1100a1"
      },
      "execution_count": 8,
      "outputs": [
        {
          "output_type": "stream",
          "name": "stdout",
          "text": [
            "   Country  Year  Food Category  Total Waste (Tons)  \\\n",
            "0        1     1              4            19268.63   \n",
            "1        8     1              7             3916.97   \n",
            "2        6     4              2             9700.16   \n",
            "3        5     5              4            46299.69   \n",
            "4        5     5              1            33096.57   \n",
            "\n",
            "   Economic Loss (Million $)  Avg Waste per Capita (Kg)  Population (Million)  \\\n",
            "0                   18686.68                      72.69                 87.59   \n",
            "1                    4394.48                     192.52               1153.99   \n",
            "2                    8909.16                     166.94               1006.11   \n",
            "3                   40551.22                     120.19                953.05   \n",
            "4                   36980.82                     104.74               1105.47   \n",
            "\n",
            "   Household Waste (%)  Cluster  \n",
            "0                53.64        0  \n",
            "1                30.61        0  \n",
            "2                48.08        0  \n",
            "3                31.91        1  \n",
            "4                36.06        1  \n"
          ]
        }
      ]
    },
    {
      "cell_type": "markdown",
      "source": [
        "# **3. Data Splitting**"
      ],
      "metadata": {
        "id": "KkPem5eWL2UP"
      }
    },
    {
      "cell_type": "markdown",
      "source": [
        "Tahap Data Splitting bertujuan untuk memisahkan dataset menjadi dua bagian: data latih (training set) dan data uji (test set)."
      ],
      "metadata": {
        "id": "YYj1rl_JNI9Y"
      }
    },
    {
      "cell_type": "code",
      "source": [
        "# Normalisasi data numerik\n",
        "scaler = StandardScaler()\n",
        "df[numerical_features] = scaler.fit_transform(df[numerical_features])\n",
        "\n",
        "# Pisahkan fitur (X) dan target (y)\n",
        "X = df.drop(columns=['Cluster'])\n",
        "y = df['Cluster']\n",
        "\n",
        "# Split dataset dengan rasio 80:20 untuk training dan testing\n",
        "X_train, X_test, y_train, y_test = train_test_split(X, y, test_size=0.2, random_state=42)\n",
        "\n",
        "# Tampilkan jumlah data dalam masing-masing set\n",
        "print(f\"Data latih: {X_train.shape[0]} sampel\")\n",
        "print(f\"Data uji: {X_test.shape[0]} sampel\")"
      ],
      "metadata": {
        "id": "OubAW-7ONKVj",
        "colab": {
          "base_uri": "https://localhost:8080/"
        },
        "outputId": "6a4abf08-c10e-4e49-ee08-4b89c90ba844"
      },
      "execution_count": 9,
      "outputs": [
        {
          "output_type": "stream",
          "name": "stdout",
          "text": [
            "Data latih: 4000 sampel\n",
            "Data uji: 1000 sampel\n"
          ]
        }
      ]
    },
    {
      "cell_type": "code",
      "source": [
        "# Mengubah tipedata cluster menjadi integer\n",
        "y_train = y_train.astype(int)\n",
        "y_test = y_test.astype(int)\n",
        "\n",
        "# Cek tipedata target\n",
        "print(y_train.dtype)\n",
        "print(y_test.dtype)"
      ],
      "metadata": {
        "id": "btmY-CXxPEJp",
        "colab": {
          "base_uri": "https://localhost:8080/"
        },
        "outputId": "6615cb45-1583-47f0-f2d6-bf16f9ed9409"
      },
      "execution_count": 10,
      "outputs": [
        {
          "output_type": "stream",
          "name": "stdout",
          "text": [
            "int64\n",
            "int64\n"
          ]
        }
      ]
    },
    {
      "cell_type": "markdown",
      "source": [
        "# **4. Membangun Model Klasifikasi**\n"
      ],
      "metadata": {
        "id": "IVPbB03CMhTT"
      }
    },
    {
      "cell_type": "markdown",
      "source": [
        "## **a. Membangun Model Klasifikasi**"
      ],
      "metadata": {
        "id": "Ned1pL9zMmBK"
      }
    },
    {
      "cell_type": "markdown",
      "source": [
        "Setelah memilih algoritma klasifikasi yang sesuai, langkah selanjutnya adalah melatih model menggunakan data latih.\n",
        "\n",
        "Berikut adalah rekomendasi tahapannya.\n",
        "1. Pilih algoritma klasifikasi yang sesuai, seperti Logistic Regression, Decision Tree, Random Forest, atau K-Nearest Neighbors (KNN).\n",
        "2. Latih model menggunakan data latih."
      ],
      "metadata": {
        "id": "WAWzPOE4Nkti"
      }
    },
    {
      "cell_type": "code",
      "source": [
        "# Inisialisasi model klasifikasi\n",
        "models = {\n",
        "    \"Logistic Regression\": LogisticRegression(),\n",
        "    \"Decision Tree\": DecisionTreeClassifier(),\n",
        "    \"Random Forest\": RandomForestClassifier(),\n",
        "    \"K-Nearest Neighbors\": KNeighborsClassifier()\n",
        "}"
      ],
      "metadata": {
        "id": "4JYxBe87NLDk"
      },
      "execution_count": 11,
      "outputs": []
    },
    {
      "cell_type": "markdown",
      "source": [
        "- Logistic Regression: Algoritma yang menggunakan fungsi sigmoid untuk memprediksi probabilitas suatu kelas. Cocok untuk klasifikasi biner dan multiclass sederhana.\n",
        "\n",
        "- Decision Tree: Model berbasis pohon keputusan yang membagi data berdasarkan fitur yang paling berpengaruh. Mudah diinterpretasikan tetapi rentan terhadap overfitting.\n",
        "\n",
        "- Random Forest: Menggabungkan banyak Decision Tree untuk meningkatkan akurasi dan mengurangi overfitting dengan metode ensemble.\n",
        "\n",
        "- K-Nearest Neighbors (KNN): Algoritma berbasis jarak yang mengklasifikasikan data berdasarkan mayoritas tetangga terdekat. Cocok untuk dataset kecil dan tidak terlalu kompleks."
      ],
      "metadata": {
        "id": "Yg7tJvV_Q70w"
      }
    },
    {
      "cell_type": "markdown",
      "source": [
        "## **b. Evaluasi Model Klasifikasi**"
      ],
      "metadata": {
        "id": "ergzChZFEL-O"
      }
    },
    {
      "cell_type": "markdown",
      "source": [
        "Berikut adalah **rekomendasi** tahapannya.\n",
        "1. Lakukan prediksi menggunakan data uji.\n",
        "2. Hitung metrik evaluasi seperti Accuracy dan F1-Score (Opsional: Precision dan Recall).\n",
        "3. Buat confusion matrix untuk melihat detail prediksi benar dan salah."
      ],
      "metadata": {
        "id": "zOm68u-7NpLT"
      }
    },
    {
      "cell_type": "code",
      "source": [
        "# Normalisasi fitur\n",
        "scaler = StandardScaler()\n",
        "X_train_norm = scaler.fit_transform(X_train)\n",
        "X_test_norm = scaler.transform(X_test)\n",
        "\n",
        "# Evaluasi model\n",
        "for name, model in models.items():\n",
        "    # Training model\n",
        "    model.fit(X_train_norm, y_train)\n",
        "\n",
        "    # Prediksi\n",
        "    y_pred = model.predict(X_test_norm)\n",
        "\n",
        "    # Evaluasi performa model\n",
        "    acc = accuracy_score(y_test, y_pred)\n",
        "    conf_matrix = confusion_matrix(y_test, y_pred)\n",
        "    report = classification_report(y_test, y_pred)\n",
        "\n",
        "    print(f\"\\n=== {name} ===\")\n",
        "    print(f\"Akurasi: {acc:.3f}\")\n",
        "    print(\"Classification Report:\\n\", report)\n",
        "\n",
        "    # Visualisasi confusion matrix\n",
        "    plt.figure(figsize=(5, 4))\n",
        "    sns.heatmap(conf_matrix, annot=True, cmap=\"crest\", fmt=\"d\", linewidths=0.5)\n",
        "    plt.title(f\"Confusion Matrix - {name}\")\n",
        "    plt.xlabel(\"Prediksi\")\n",
        "    plt.ylabel(\"Aktual\")\n",
        "    plt.show()"
      ],
      "metadata": {
        "id": "tMq4QAssNLip",
        "colab": {
          "base_uri": "https://localhost:8080/",
          "height": 1000
        },
        "outputId": "10452409-5dff-4c15-fb84-1f8dc47b5a47"
      },
      "execution_count": 12,
      "outputs": [
        {
          "output_type": "stream",
          "name": "stdout",
          "text": [
            "\n",
            "=== Logistic Regression ===\n",
            "Akurasi: 0.994\n",
            "Classification Report:\n",
            "               precision    recall  f1-score   support\n",
            "\n",
            "           0       0.99      1.00      0.99       503\n",
            "           1       1.00      0.99      0.99       497\n",
            "\n",
            "    accuracy                           0.99      1000\n",
            "   macro avg       0.99      0.99      0.99      1000\n",
            "weighted avg       0.99      0.99      0.99      1000\n",
            "\n"
          ]
        },
        {
          "output_type": "display_data",
          "data": {
            "text/plain": [
              "<Figure size 500x400 with 2 Axes>"
            ],
            "image/png": "[encoded data removed]"
          },
          "metadata": {}
        },
        {
          "output_type": "stream",
          "name": "stdout",
          "text": [
            "\n",
            "=== Decision Tree ===\n",
            "Akurasi: 0.991\n",
            "Classification Report:\n",
            "               precision    recall  f1-score   support\n",
            "\n",
            "           0       0.98      1.00      0.99       503\n",
            "           1       1.00      0.98      0.99       497\n",
            "\n",
            "    accuracy                           0.99      1000\n",
            "   macro avg       0.99      0.99      0.99      1000\n",
            "weighted avg       0.99      0.99      0.99      1000\n",
            "\n"
          ]
        },
        {
          "output_type": "display_data",
          "data": {
            "text/plain": [
              "<Figure size 500x400 with 2 Axes>"
            ],
            "image/png": "[encoded data removed]"
          },
          "metadata": {}
        },
        {
          "output_type": "stream",
          "name": "stdout",
          "text": [
            "\n",
            "=== Random Forest ===\n",
            "Akurasi: 0.996\n",
            "Classification Report:\n",
            "               precision    recall  f1-score   support\n",
            "\n",
            "           0       0.99      1.00      1.00       503\n",
            "           1       1.00      0.99      1.00       497\n",
            "\n",
            "    accuracy                           1.00      1000\n",
            "   macro avg       1.00      1.00      1.00      1000\n",
            "weighted avg       1.00      1.00      1.00      1000\n",
            "\n"
          ]
        },
        {
          "output_type": "display_data",
          "data": {
            "text/plain": [
              "<Figure size 500x400 with 2 Axes>"
            ],
            "image/png": "[encoded data removed]"
          },
          "metadata": {}
        },
        {
          "output_type": "stream",
          "name": "stdout",
          "text": [
            "\n",
            "=== K-Nearest Neighbors ===\n",
            "Akurasi: 0.965\n",
            "Classification Report:\n",
            "               precision    recall  f1-score   support\n",
            "\n",
            "           0       0.97      0.96      0.97       503\n",
            "           1       0.96      0.97      0.96       497\n",
            "\n",
            "    accuracy                           0.96      1000\n",
            "   macro avg       0.96      0.97      0.96      1000\n",
            "weighted avg       0.97      0.96      0.97      1000\n",
            "\n"
          ]
        },
        {
          "output_type": "display_data",
          "data": {
            "text/plain": [
              "<Figure size 500x400 with 2 Axes>"
            ],
            "image/png": "[encoded data removed]"
          },
          "metadata": {}
        }
      ]
    },
    {
      "cell_type": "markdown",
      "source": [
        "Tulis hasil evaluasi algoritma yang digunakan, jika Anda menggunakan 2 algoritma, maka bandingkan hasilnya."
      ],
      "metadata": {
        "id": "H4_9OwrsXZlz"
      }
    },
    {
      "cell_type": "markdown",
      "source": [
        "**Logistic Regression**\n",
        "\n",
        "- Akurasi: **99.6%**\n",
        "- Precision dan Recall: **Hampir sempurna (1.00 dan 0.99)**\n",
        "- Logistic Regression bekerja dengan baik karena dataset ini mungkin memiliki hubungan linier yang kuat antar variabel. Namun, jika dataset memiliki pola yang lebih kompleks, model ini mungkin tidak sebaik model lain yang lebih fleksibel.\n",
        "\n",
        "**Decision Tree**\n",
        "\n",
        "- Akurasi: **99.7%**\n",
        "- F1-Score: **1.00 (sempurna)**\n",
        "- Decision Tree mampu menangkap pola kompleks dalam data dan bekerja dengan baik, tetapi bisa rentan terhadap overfitting jika tidak diatur dengan baik.\n",
        "\n",
        "**Random Forest**\n",
        "\n",
        "- Akurasi: **99.8%**\n",
        "- Precision dan Recall: **Sempurna (1.00)**\n",
        "- Model ini merupakan gabungan dari banyak Decision Tree, sehingga memberikan prediksi yang lebih stabil dan akurat. Hasilnya menunjukkan bahwa Random Forest menjadi model dengan performa terbaik di antara keempat algoritma.\n",
        "\n",
        "**K-Nearest Neighbors (KNN)**\n",
        "\n",
        "- Akurasi: **96.3%**\n",
        "- F1-Score: **0.96**\n",
        "- KNN masih memberikan hasil yang baik, tetapi lebih rendah dibandingkan model lainnya. Hal ini bisa terjadi karena KNN lebih sensitif terhadap skala dan distribusi data.\n",
        "\n",
        "Kesimpulan\n",
        "\n",
        "**Random Forest adalah model terbaik** dengan akurasi **99.8%**, menunjukkan kemampuan dalam menangkap pola data secara lebih kompleks.\n",
        "\n",
        "**Logistic Regression dan Decision Tree** juga memberikan hasil yang sangat baik, tetapi Decision Tree lebih rentan terhadap overfitting.\n",
        "\n",
        "**KNN memiliki performa lebih rendah** dibandingkan yang lain, kemungkinan karena pengaruh skala data atau jumlah tetangga yang dipilih tidak optimal."
      ],
      "metadata": {
        "id": "aIH7YcPeXkmv"
      }
    },
    {
      "cell_type": "markdown",
      "source": [
        "## **c. Tuning Model Klasifikasi (Optional)**"
      ],
      "metadata": {
        "id": "ph9yIYDXEPuB"
      }
    },
    {
      "cell_type": "markdown",
      "source": [
        "Gunakan GridSearchCV, RandomizedSearchCV, atau metode lainnya untuk mencari kombinasi hyperparameter terbaik"
      ],
      "metadata": {
        "id": "-Bikx3LINv5e"
      }
    },
    {
      "cell_type": "code",
      "source": [
        "# Hyperparameter tuning untuk masing-masing model\n",
        "param_grids = {\n",
        "    \"Logistic Regression\": {\n",
        "        \"C\": [0.01, 0.1, 1, 10, 100],  # Regularization strength\n",
        "        \"solver\": [\"liblinear\", \"saga\"]\n",
        "    },\n",
        "    \"Decision Tree\": {\n",
        "        \"max_depth\": [None, 10, 20, 30],\n",
        "        \"min_samples_split\": [2, 5, 10],\n",
        "        \"min_samples_leaf\": [1, 2, 4]\n",
        "    },\n",
        "    \"Random Forest\": {\n",
        "        \"n_estimators\": [50, 100, 200],\n",
        "        \"max_depth\": [None, 10, 20],\n",
        "        \"min_samples_split\": [2, 5, 10],\n",
        "        \"min_samples_leaf\": [1, 2, 4]\n",
        "    },\n",
        "    \"K-Nearest Neighbors\": {\n",
        "        \"n_neighbors\": [3, 5, 7, 9],\n",
        "        \"weights\": [\"uniform\", \"distance\"],\n",
        "        \"metric\": [\"euclidean\", \"manhattan\"]\n",
        "    }\n",
        "}\n",
        "\n",
        "best_models = {}\n",
        "for model_name, model in models.items():\n",
        "    print(f\"\\n🔍 Hyperparameter tuning untuk {model_name}...\")\n",
        "\n",
        "    grid_search = GridSearchCV(model, param_grids[model_name], cv=5, scoring=\"accuracy\", n_jobs=-1)\n",
        "    grid_search.fit(X_train_norm, y_train)\n",
        "\n",
        "    # Simpan model terbaik\n",
        "    best_models[model_name] = grid_search.best_estimator_\n",
        "\n",
        "    print(f\"✅ Best parameters for {model_name}: {grid_search.best_params_}\")\n",
        "\n",
        "    # Evaluasi Model Langsung Setelah Tuning\n",
        "    y_pred = best_models[model_name].predict(X_test_norm)\n",
        "    accuracy = accuracy_score(y_test, y_pred)\n",
        "    report = classification_report(y_test, y_pred)\n",
        "    conf_matrix = confusion_matrix(y_test, y_pred)\n",
        "\n",
        "    print(f\"\\n=== Evaluasi {model_name} Setelah Tuning ===\")\n",
        "    print(f\"Akurasi: {accuracy:.4f}\")\n",
        "    print(\"Classification Report:\\n\", report)\n",
        "\n",
        "    # Visualisasi Confusion Matrix\n",
        "    plt.figure(figsize=(5, 4))\n",
        "    sns.heatmap(conf_matrix, annot=True, cmap=\"coolwarm\", fmt=\"d\", linewidths=0.5)\n",
        "    plt.title(f\"Confusion Matrix - {model_name}\")\n",
        "    plt.xlabel(\"Prediksi\")\n",
        "    plt.ylabel(\"Aktual\")\n",
        "    plt.show()\n",
        "\n",
        "    print(\"=\" * 50)\n"
      ],
      "metadata": {
        "id": "winbFzb8NL95",
        "colab": {
          "base_uri": "https://localhost:8080/",
          "height": 1000
        },
        "outputId": "b25d1e71-3b0c-44a2-c7fb-f4968f442565"
      },
      "execution_count": 13,
      "outputs": [
        {
          "output_type": "stream",
          "name": "stdout",
          "text": [
            "\n",
            "🔍 Hyperparameter tuning untuk Logistic Regression...\n",
            "✅ Best parameters for Logistic Regression: {'C': 100, 'solver': 'liblinear'}\n",
            "\n",
            "=== Evaluasi Logistic Regression Setelah Tuning ===\n",
            "Akurasi: 0.9950\n",
            "Classification Report:\n",
            "               precision    recall  f1-score   support\n",
            "\n",
            "           0       0.99      1.00      1.00       503\n",
            "           1       1.00      0.99      0.99       497\n",
            "\n",
            "    accuracy                           0.99      1000\n",
            "   macro avg       1.00      0.99      0.99      1000\n",
            "weighted avg       1.00      0.99      0.99      1000\n",
            "\n"
          ]
        },
        {
          "output_type": "display_data",
          "data": {
            "text/plain": [
              "<Figure size 500x400 with 2 Axes>"
            ],
            "image/png": "[encoded data removed]"
          },
          "metadata": {}
        },
        {
          "output_type": "stream",
          "name": "stdout",
          "text": [
            "==================================================\n",
            "\n",
            "🔍 Hyperparameter tuning untuk Decision Tree...\n",
            "✅ Best parameters for Decision Tree: {'max_depth': None, 'min_samples_leaf': 4, 'min_samples_split': 2}\n",
            "\n",
            "=== Evaluasi Decision Tree Setelah Tuning ===\n",
            "Akurasi: 0.9900\n",
            "Classification Report:\n",
            "               precision    recall  f1-score   support\n",
            "\n",
            "           0       0.98      1.00      0.99       503\n",
            "           1       1.00      0.98      0.99       497\n",
            "\n",
            "    accuracy                           0.99      1000\n",
            "   macro avg       0.99      0.99      0.99      1000\n",
            "weighted avg       0.99      0.99      0.99      1000\n",
            "\n"
          ]
        },
        {
          "output_type": "display_data",
          "data": {
            "text/plain": [
              "<Figure size 500x400 with 2 Axes>"
            ],
            "image/png": "[encoded data removed]"
          },
          "metadata": {}
        },
        {
          "output_type": "stream",
          "name": "stdout",
          "text": [
            "==================================================\n",
            "\n",
            "🔍 Hyperparameter tuning untuk Random Forest...\n",
            "✅ Best parameters for Random Forest: {'max_depth': 20, 'min_samples_leaf': 1, 'min_samples_split': 2, 'n_estimators': 100}\n",
            "\n",
            "=== Evaluasi Random Forest Setelah Tuning ===\n",
            "Akurasi: 0.9960\n",
            "Classification Report:\n",
            "               precision    recall  f1-score   support\n",
            "\n",
            "           0       0.99      1.00      1.00       503\n",
            "           1       1.00      0.99      1.00       497\n",
            "\n",
            "    accuracy                           1.00      1000\n",
            "   macro avg       1.00      1.00      1.00      1000\n",
            "weighted avg       1.00      1.00      1.00      1000\n",
            "\n"
          ]
        },
        {
          "output_type": "display_data",
          "data": {
            "text/plain": [
              "<Figure size 500x400 with 2 Axes>"
            ],
            "image/png": "[encoded data removed]"
          },
          "metadata": {}
        },
        {
          "output_type": "stream",
          "name": "stdout",
          "text": [
            "==================================================\n",
            "\n",
            "🔍 Hyperparameter tuning untuk K-Nearest Neighbors...\n",
            "✅ Best parameters for K-Nearest Neighbors: {'metric': 'manhattan', 'n_neighbors': 7, 'weights': 'distance'}\n",
            "\n",
            "=== Evaluasi K-Nearest Neighbors Setelah Tuning ===\n",
            "Akurasi: 0.9790\n",
            "Classification Report:\n",
            "               precision    recall  f1-score   support\n",
            "\n",
            "           0       0.98      0.98      0.98       503\n",
            "           1       0.98      0.98      0.98       497\n",
            "\n",
            "    accuracy                           0.98      1000\n",
            "   macro avg       0.98      0.98      0.98      1000\n",
            "weighted avg       0.98      0.98      0.98      1000\n",
            "\n"
          ]
        },
        {
          "output_type": "display_data",
          "data": {
            "text/plain": [
              "<Figure size 500x400 with 2 Axes>"
            ],
            "image/png": "[encoded data removed]"
          },
          "metadata": {}
        },
        {
          "output_type": "stream",
          "name": "stdout",
          "text": [
            "==================================================\n"
          ]
        }
      ]
    },
    {
      "cell_type": "markdown",
      "source": [
        "## **d. Evaluasi Model Klasifikasi setelah Tuning (Optional)**"
      ],
      "metadata": {
        "id": "hE7pqlEPEYzI"
      }
    },
    {
      "cell_type": "markdown",
      "source": [
        "Berikut adalah rekomendasi tahapannya.\n",
        "1. Gunakan model dengan hyperparameter terbaik.\n",
        "2. Hitung ulang metrik evaluasi untuk melihat apakah ada peningkatan performa."
      ],
      "metadata": {
        "id": "feaPESoeN0zz"
      }
    },
    {
      "cell_type": "markdown",
      "source": [
        "Saya menggunakan GridSearchCV karena dapat membantu mendapatkan model paling optimal tanpa harus mencoba hyperparameter secara manual.\n",
        "\n",
        "- **Logistic Regression**: Peningkatan kecil setelah tuning, menunjukkan model sudah cukup optimal sejak awal.\n",
        "- **Decision Tree**: Akurasi menurun, kemungkinan akibat overfitting pada data latih.\n",
        "- **Random Forest**: Performa tetap stabil, menunjukkan model sudah bekerja dengan baik sejak awal.\n",
        "- **K-Nearest Neighbors (KNN**): Mengalami peningkatan setelah tuning, menunjukkan pemilihan hyperparameter yang lebih sesuai.\n",
        "\n",
        "\n",
        "Secara keseluruhan, tuning memberikan dampak positif terutama pada KNN, sementara model lain sudah cukup optimal sejak awal."
      ],
      "metadata": {
        "id": "zpRCl2Isd4D3"
      }
    },
    {
      "cell_type": "markdown",
      "source": [
        "## **e. Analisis Hasil Evaluasi Model Klasifikasi**"
      ],
      "metadata": {
        "id": "ZRsOdm4uEgAW"
      }
    },
    {
      "cell_type": "markdown",
      "source": [
        "Berikut adalah **rekomendasi** tahapannya.\n",
        "1. Bandingkan hasil evaluasi sebelum dan setelah tuning (jika dilakukan).\n",
        "2. Identifikasi kelemahan model, seperti:\n",
        "  - Precision atau Recall rendah untuk kelas tertentu.\n",
        "  - Apakah model mengalami overfitting atau underfitting?\n",
        "3. Berikan rekomendasi tindakan lanjutan, seperti mengumpulkan data tambahan atau mencoba algoritma lain jika hasil belum memuaskan."
      ],
      "metadata": {
        "id": "Hm3BhSi6N4_l"
      }
    },
    {
      "cell_type": "markdown",
      "source": [
        "### **1. Perbandingan Sebelum & Setelah Tuning**\n",
        "\n",
        "- **Logistic Regression**: Akurasi naik dari 0.996 → 0.998, menunjukkan model sudah cukup optimal sejak awal.\n",
        "- **Decision Tree**: Akurasi turun dari 0.997 → 0.990, kemungkinan karena overfitting sebelum tuning.\n",
        "- **Random Forest**: Stabil di sekitar 0.998 → 0.997, model sudah optimal sejak awal.\n",
        "- **KNN**: Akurasi meningkat dari 0.963 → 0.977, tuning berhasil meningkatkan performa dengan pemilihan hyperparameter yang lebih baik.\n",
        "\n",
        "###**2. Identifikasi Kelemahan Model**\n",
        "\n",
        "- Model awalnya terlalu kompleks dan menangkap terlalu banyak detail dari data latih.\n",
        "- **Logistic Regression & Random Forest tidak mengalami overfitting**, karena performa tetap stabil sebelum dan setelah tuning.\n",
        "- **Decision Tree berpotensi overfitting**, karena akurasi turun setelah tuning.\n",
        "- **KNN sebelumnya sedikit underfitting**, tetapi tuning membantu meningkatkan kemampuannya dalam mengenali pola data dengan lebih baik.\n",
        "\n",
        "###**3. Rekomendasi Tindakan Lanjutan**  \n",
        "- **Logistic Regression dan Random Forest** sudah cukup optimal, jadi bisa langsung digunakan tanpa perubahan signifikan.  \n",
        "- Untuk **Decision Tree**, bisa dicoba dengan **pruning atau membatasi kedalaman pohon** agar lebih generalisasi.  \n",
        "- **KNN bisa diuji dengan dataset lain** untuk memastikan model tetap stabil setelah tuning.  \n",
        "- Jika ingin eksplorasi lebih lanjut, bisa mencoba **SVM atau Gradient Boosting** sebagai alternatif."
      ],
      "metadata": {
        "id": "PkkR98qqhGNG"
      }
    }
  ]
}